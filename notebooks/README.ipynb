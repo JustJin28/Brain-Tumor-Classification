{
 "cells": [
  {
   "cell_type": "markdown",
   "id": "38b5e856",
   "metadata": {},
   "source": [
    "# Brain Tumor Image Classification\n",
    "\n",
    "This project classifies brain tumor images into three categories: meningioma, glioma, and pituitary tumor. The images have been preprocessed, augmented, and used to train a convolutional neural network (CNN) to achieve this classification."
   ]
  },
  {
   "cell_type": "markdown",
   "id": "5736a806",
   "metadata": {},
   "source": [
    "## Project Structure\n",
    "\n",
    "Brain_Tumor_Image_Detection/  \n",
    "├── data/  \n",
    "│   ├── raw/  \n",
    "│   │   ├── archive-3/  \n",
    "│   │       ├── 1/  \n",
    "│   │       ├── 2/  \n",
    "│   │       ├── 3/  \n",
    "│   ├── processed/  \n",
    "│   │   ├── 1/  \n",
    "│   │   ├── 2/  \n",
    "│   │   ├── 3/  \n",
    "│   ├── processed_augmented/  \n",
    "│       ├── 1_augmented/  \n",
    "│       ├── 2_augmented/  \n",
    "│       ├── 3_augmented/  \n",
    "├── models/  \n",
    "│   └── best_model.keras  \n",
    "│   └── final_model.keras  \n",
    "├── notebooks/  \n",
    "│   ├── Data_Cleaning_and_EDA_Brain_Tumor.ipynb  \n",
    "│   ├── Modeling_Brain_Tumor.ipynb  \n",
    "└── README.md  "
   ]
  },
  {
   "cell_type": "markdown",
   "id": "1c2b2bac",
   "metadata": {},
   "source": [
    "## Requirements\n",
    "\n",
    "- Python 3.x\n",
    "- TensorFlow\n",
    "- Keras\n",
    "- NumPy\n",
    "- Matplotlib\n",
    "- Seaborn\n",
    "- Pandas\n",
    "- PIL (Pillow)\n",
    "\n",
    "You can install the required packages using the following command:\n",
    "\n",
    "bash\n",
    "pip install tensorflow keras numpy matplotlib seaborn pandas pillow"
   ]
  },
  {
   "cell_type": "markdown",
   "id": "1fdc8433",
   "metadata": {},
   "source": [
    "## Data Preprocessing and EDA\n",
    "\n",
    "The `Data_Cleaning_and_EDA_Brain_Tumor.ipynb` notebook includes the following steps:\n",
    "\n",
    "1. **Normalize and Resize Images:**\n",
    "   - Images are resized to 256x256 pixels and normalized.\n",
    "   \n",
    "2. **Data Augmentation:**\n",
    "   - Augmented images are generated to increase the variability in the dataset.\n",
    "\n",
    "3. **Exploratory Data Analysis (EDA):**\n",
    "   - Distribution of classes, pixel intensity, and image sizes are analyzed."
   ]
  },
  {
   "cell_type": "markdown",
   "id": "b34b2ada",
   "metadata": {},
   "source": [
    "## Model Training\n",
    "\n",
    "The `Modeling_Brain_Tumor.ipynb` notebook includes the following steps:\n",
    "\n",
    "1. **Data Generators:**\n",
    "   - Use `ImageDataGenerator` to create training and validation data generators with aggressive augmentation.\n",
    "   \n",
    "2. **Model Definition:**\n",
    "   - A CNN is defined using the Sequential API with Conv2D, MaxPooling2D, Flatten, Dense, and Dropout layers.\n",
    "   \n",
    "3. **Model Training:**\n",
    "   - The model is trained using the training data generator with early stopping and checkpointing.\n",
    "   - Learning rate scheduler is used to adjust the learning rate during training.\n",
    "\n",
    "4. **Model Evaluation:**\n",
    "   - Training and validation accuracy and loss are plotted to visualize model performance."
   ]
  },
  {
   "cell_type": "markdown",
   "id": "33edb378",
   "metadata": {},
   "source": [
    "## How to Run\n",
    "\n",
    "1. **Clone the Repository:**\n",
    "\n",
    "```bash\n",
    "git clone https://github.com/JustJin28/brain-tumor-image-classification.git\n",
    "cd brain-tumor-image-classification\n",
    "\n"
   ]
  },
  {
   "cell_type": "markdown",
   "id": "1406cc27",
   "metadata": {},
   "source": [
    "2.\n",
    "Run the Notebooks:\n",
    "\t•\tOpen Data_Cleaning_and_EDA_Brain_Tumor.ipynb and run all cells to preprocess the data.\n",
    "\t•\tOpen Modeling_Brain_Tumor.ipynb and run all cells to train and evaluate the model."
   ]
  },
  {
   "cell_type": "markdown",
   "id": "b9f2dcf5",
   "metadata": {},
   "source": [
    "## Contributing\n",
    "\n",
    "Contributions are welcome! Please open an issue or submit a pull request if you have any suggestions or improvements.\n",
    "\n",
    "## License\n",
    "\n",
    "This project is licensed under the MIT License."
   ]
  },
  {
   "cell_type": "code",
   "execution_count": null,
   "id": "c3582393",
   "metadata": {},
   "outputs": [],
   "source": []
  }
 ],
 "metadata": {
  "kernelspec": {
   "display_name": "Python 3 (ipykernel)",
   "language": "python",
   "name": "python3"
  },
  "language_info": {
   "codemirror_mode": {
    "name": "ipython",
    "version": 3
   },
   "file_extension": ".py",
   "mimetype": "text/x-python",
   "name": "python",
   "nbconvert_exporter": "python",
   "pygments_lexer": "ipython3",
   "version": "3.11.5"
  }
 },
 "nbformat": 4,
 "nbformat_minor": 5
}
